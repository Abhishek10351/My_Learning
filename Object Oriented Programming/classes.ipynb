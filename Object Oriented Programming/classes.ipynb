{
 "cells": [
  {
   "cell_type": "code",
   "execution_count": 4,
   "metadata": {},
   "outputs": [
    {
     "name": "stdout",
     "output_type": "stream",
     "text": [
      "True\n"
     ]
    },
    {
     "data": {
      "text/plain": [
       "True"
      ]
     },
     "execution_count": 4,
     "metadata": {},
     "output_type": "execute_result"
    }
   ],
   "source": [
    "class Animal:\n",
    "    alive = True\n",
    "    # class object attribute \n",
    "    # same for any instance of class\n",
    "    def __init__(self,species,breed): # parameters\n",
    "        # __init__ method\n",
    "        # self -> character of the class\n",
    "        self.species = species # attributes\n",
    "        self.my_breed = breed\n",
    "        print(self.alive)\n",
    "    def say(self,name):\n",
    "        # enter your name\n",
    "        return f'Hello {name}'\n",
    "    def speak(self):\n",
    "        return f'Hi, I am a {self.species}'\n",
    "a = Animal(species='Dog',breed='bulldog') # take as arguments\n",
    "a.my_breed\n",
    "a.say('Abhishek')\n",
    "a.speak()\n",
    "a.alive"
   ]
  },
  {
   "cell_type": "code",
   "execution_count": 3,
   "metadata": {},
   "outputs": [
    {
     "data": {
      "text/plain": [
       "78.53981633974483"
      ]
     },
     "execution_count": 3,
     "metadata": {},
     "output_type": "execute_result"
    }
   ],
   "source": [
    "class Circle():\n",
    "    pi = 3.141592653589793\n",
    "    def __init__(self,radius=1):\n",
    "        self.radius = radius\n",
    "        self.area = Circle.pi*(self.radius**2)\n",
    "    def circumference(self):\n",
    "        return round((2 * self.radius * Circle.pi),2)\n",
    "my_circle = Circle(radius = 5)\n",
    "my_circle.circumference()\n",
    "my_circle.area"
   ]
  },
  {
   "cell_type": "code",
   "execution_count": null,
   "metadata": {},
   "outputs": [],
   "source": [
    "class Book:\n",
    "    def __init__(self, title, author, pages):\n",
    "        print(\"A book is created\")\n",
    "        self.title = title\n",
    "        self.author = author\n",
    "        self.pages = pages\n",
    "\n",
    "    def __str__(self):\n",
    "        return \"Title: %s, author: %s, pages: %s\" %(self.title, self.author, self.pages)\n",
    "\n",
    "    def __len__(self):\n",
    "        return self.pages\n",
    "\n",
    "    def __del__(self):\n",
    "        print(\"A book is destroyed\")\n",
    "\n",
    "book = Book(\"Python Rocks!\", \"Jose Portilla\", 159)\n",
    "book.__init__(\"Python Rocks!\", \"Jose Portilla\", 15)\n",
    "#Special Methods\n",
    "print(book)\n",
    "print(len(book))\n",
    "del book"
   ]
  }
 ],
 "metadata": {
  "interpreter": {
   "hash": "4f90bca6d5532465107dddf48f58200c9df515003323938e85648d01de9b439e"
  },
  "kernelspec": {
   "display_name": "Python 3.9.7 32-bit",
   "name": "python3"
  },
  "language_info": {
   "codemirror_mode": {
    "name": "ipython",
    "version": 3
   },
   "file_extension": ".py",
   "mimetype": "text/x-python",
   "name": "python",
   "nbconvert_exporter": "python",
   "pygments_lexer": "ipython3",
   "version": "3.9.7"
  },
  "orig_nbformat": 4
 },
 "nbformat": 4,
 "nbformat_minor": 2
}
