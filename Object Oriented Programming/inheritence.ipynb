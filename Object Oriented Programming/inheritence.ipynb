{
 "metadata": {
  "language_info": {
   "codemirror_mode": {
    "name": "ipython",
    "version": 3
   },
   "file_extension": ".py",
   "mimetype": "text/x-python",
   "name": "python",
   "nbconvert_exporter": "python",
   "pygments_lexer": "ipython3",
   "version": "3.9.5"
  },
  "orig_nbformat": 4,
  "kernelspec": {
   "name": "python3",
   "display_name": "Python 3.9.5 32-bit"
  },
  "interpreter": {
   "hash": "4f90bca6d5532465107dddf48f58200c9df515003323938e85648d01de9b439e"
  }
 },
 "nbformat": 4,
 "nbformat_minor": 2,
 "cells": [
  {
   "source": [
    "class Animal():\n",
    "    def __init__(self):\n",
    "        print('Animal created')\n",
    "    def WhoAmI(self):\n",
    "        print('I am an Animal.')\n",
    "    def eat(self):\n",
    "        print('Thanks for the food bud')"
   ],
   "cell_type": "code",
   "metadata": {},
   "execution_count": null,
   "outputs": []
  },
  {
   "cell_type": "code",
   "execution_count": null,
   "metadata": {},
   "outputs": [],
   "source": [
    "''' \n",
    "Inheritance - Using methods of one class in other classes\n",
    "'''\n",
    "class Panda(Animal):\n",
    "    def __init__(self):\n",
    "        Animal.__init__(self)\n",
    "        Animal.eat(self)\n",
    "        print('A panda is born')\n",
    "    # Animal.eat(self)\n",
    "    def eat(self):\n",
    "        Animal.eat(self)\n",
    "        print('Lmao thanks for feeding me dude')\n",
    "    def WhoAmI(self):\n",
    "        print('I am a Panda')\n",
    "    def Play(self):\n",
    "        print(\"I liked playing with you\")\n",
    "animal1 = Panda()\n",
    "animal1.eat()\n",
    "animal1.WhoAmI()"
   ]
  },
  {
   "cell_type": "code",
   "execution_count": null,
   "metadata": {},
   "outputs": [],
   "source": [
    "class Animal():\n",
    "    def __init__(self, name):\n",
    "        self.name = name\n",
    "    def self(self):\n",
    "        # abstract class\n",
    "        # can only be used as base class (not be inherited)\n",
    "        raise NotImplementedError('osteoporosis')\n",
    "class Dinosaur(Animal):\n",
    "    def speak(self):\n",
    "        print(f'Hi I am {self.name}')\n",
    "Dinosaur('T-rex').speak()"
   ]
  },
  {
   "cell_type": "code",
   "execution_count": null,
   "metadata": {},
   "outputs": [],
   "source": [
    "class Animal():\n",
    "    def __init__(self,name):\n",
    "        self.name = name\n",
    "Animal('Osteoporosis').name\n",
    "class Dog(Animal):\n",
    "    def __init__(self,name):\n",
    "        self.name = name\n",
    "        print(self.name)\n",
    "Dog('Niko')"
   ]
  },
  {
   "cell_type": "code",
   "execution_count": null,
   "metadata": {},
   "outputs": [],
   "source": [
    "class Animal:\n",
    "    def __init__(self, name: str) -> None:\n",
    "        self.name = name\n",
    "        print(f\"Animal {name} created\")\n",
    "\n",
    "class Dog(Animal):\n",
    "    def __init__(self, name: str) -> None:\n",
    "        super().__init__(name)\n",
    "    def lol():\n",
    "        return 'lmao'\n",
    "    \n",
    "\n",
    "@Dog\n",
    "def breed(self):\n",
    "    return('Bulldog')\n",
    "animal = Dog(\"Spike\")\n",
    "breed()"
   ]
  },
  {
   "cell_type": "code",
   "execution_count": null,
   "metadata": {},
   "outputs": [],
   "source": [
    "'''\n",
    "class Animal():\n",
    "    def __init__(self,name):\n",
    "        self.name = name\n",
    "        print('Animal created')\n",
    "class Panda(Animal):\n",
    "    def __init__(self,name):\n",
    "        Animal.__init__(self)\n",
    "        Animal.name = name\n",
    "\n",
    "animal1 = Panda()\n",
    "'''"
   ]
  },
  {
   "cell_type": "code",
   "execution_count": null,
   "metadata": {},
   "outputs": [],
   "source": [
    "import time\n",
    "def timer(f):\n",
    "    def inner(*args, **kwargs):\n",
    "        start = time.time()\n",
    "        result = f(*args, **kwargs)\n",
    "        print('Time elapsed:', time.time() - start)\n",
    "        return result\n",
    "    return inner\n",
    "\n",
    "@timer\n",
    "def slow(delay=1):\n",
    "    time.sleep(delay)\n",
    "    return 'Finished!'\n",
    "\n",
    "print(slow())\n",
    "print(slow(3))\n"
   ]
  },
  {
   "cell_type": "code",
   "execution_count": 7,
   "metadata": {},
   "outputs": [
    {
     "output_type": "stream",
     "name": "stdout",
     "text": [
      "XD\nhello None\ncode before executing\n"
     ]
    }
   ],
   "source": [
    "def hello(name):\n",
    "    def wrap(a):\n",
    "        print('code before executing')\n",
    "    print(f'hello {name()}')\n",
    "    return wrap\n",
    "@hello\n",
    "def greet():\n",
    "    print('XD')\n",
    "greet('lol')"
   ]
  },
  {
   "cell_type": "code",
   "execution_count": 4,
   "metadata": {},
   "outputs": [
    {
     "output_type": "stream",
     "name": "stdout",
     "text": [
      "Code would be here, before executing the func\nThis function is in need of a Decorator\nCode here will execute after the func()\n"
     ]
    }
   ],
   "source": [
    "def new_decorator(func):\n",
    "\n",
    "    def wrap_func():\n",
    "        print(\"Code would be here, before executing the func\")\n",
    "\n",
    "        func()\n",
    "\n",
    "        print(\"Code here will execute after the func()\")\n",
    "\n",
    "    return wrap_func\n",
    "\n",
    "@new_decorator\n",
    "def func_needs_decorator():\n",
    "    print(\"This function is in need of a Decorator\")\n",
    "func_needs_decorator()"
   ]
  }
 ]
}