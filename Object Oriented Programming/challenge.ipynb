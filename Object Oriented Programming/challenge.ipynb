{
 "metadata": {
  "language_info": {
   "codemirror_mode": {
    "name": "ipython",
    "version": 3
   },
   "file_extension": ".py",
   "mimetype": "text/x-python",
   "name": "python",
   "nbconvert_exporter": "python",
   "pygments_lexer": "ipython3",
   "version": "3.9.5"
  },
  "orig_nbformat": 4,
  "kernelspec": {
   "name": "python3",
   "display_name": "Python 3.9.5 32-bit"
  },
  "interpreter": {
   "hash": "4f90bca6d5532465107dddf48f58200c9df515003323938e85648d01de9b439e"
  }
 },
 "nbformat": 4,
 "nbformat_minor": 2,
 "cells": [
  {
   "cell_type": "code",
   "execution_count": 1,
   "metadata": {},
   "outputs": [],
   "source": [
    "class Account():\n",
    "    def __init__(self,owner:str,balance:float):\n",
    "        self.owner = owner \n",
    "        self.balance = balance # imaginary numbers not allowed\n",
    "        if isinstance(balance,complex):\n",
    "            raise TypeError('Balance can only be in form of real numbers')\n",
    "    def __str__(self):\n",
    "        return(f'Account owner: {self.owner} \\nAccount balance: {self.balance} $')\n",
    "    def deposit(self,dep_amount:float):\n",
    "        if dep_amount > 0 and not isinstance(dep_amount,complex):\n",
    "            self.balance += dep_amount\n",
    "            print(f'Deposited {dep_amount} $. Current balance is {self.balance} $')\n",
    "        else:\n",
    "            print(f'Invalid amount')\n",
    "    def withdraw(self,wd_amount:float):\n",
    "        if wd_amount > self.balance:\n",
    "            print('Funds Unavailable!')\n",
    "        else:\n",
    "            self.balance -= wd_amount\n",
    "            print(f'Withdrawal of {wd_amount} $ completed. Current balance is {self.balance} $')"
   ]
  },
  {
   "cell_type": "code",
   "execution_count": 2,
   "metadata": {},
   "outputs": [
    {
     "output_type": "stream",
     "name": "stdout",
     "text": [
      "Account owner: Abhishek \nAccount balance: 5000 $\n"
     ]
    }
   ],
   "source": [
    "acc = Account('Abhishek',5000)\n",
    "print(acc)"
   ]
  },
  {
   "cell_type": "code",
   "execution_count": 3,
   "metadata": {},
   "outputs": [
    {
     "output_type": "stream",
     "name": "stdout",
     "text": [
      "Withdrawal of 4000 $ completed. Current balance is 1000 $\n"
     ]
    }
   ],
   "source": [
    "acc.withdraw(4000)"
   ]
  },
  {
   "cell_type": "code",
   "execution_count": 4,
   "metadata": {},
   "outputs": [
    {
     "output_type": "stream",
     "name": "stdout",
     "text": [
      "Invalid amount\n"
     ]
    }
   ],
   "source": [
    "acc.deposit(-50)"
   ]
  },
  {
   "cell_type": "code",
   "execution_count": 5,
   "metadata": {},
   "outputs": [
    {
     "output_type": "stream",
     "name": "stdout",
     "text": [
      "Deposited 2000 $. Current balance is 3000 $\n"
     ]
    }
   ],
   "source": [
    "acc.deposit(2000)"
   ]
  },
  {
   "cell_type": "code",
   "execution_count": 6,
   "metadata": {},
   "outputs": [
    {
     "output_type": "stream",
     "name": "stdout",
     "text": [
      "Funds Unavailable!\n"
     ]
    }
   ],
   "source": [
    "acc.withdraw(5000)"
   ]
  },
  {
   "cell_type": "code",
   "execution_count": 7,
   "metadata": {},
   "outputs": [
    {
     "output_type": "stream",
     "name": "stdout",
     "text": [
      "Withdrawal of 1000 $ completed. Current balance is 2000 $\n"
     ]
    }
   ],
   "source": [
    "acc.withdraw(1000)"
   ]
  },
  {
   "cell_type": "code",
   "execution_count": 8,
   "metadata": {},
   "outputs": [
    {
     "output_type": "execute_result",
     "data": {
      "text/plain": [
       "2000"
      ]
     },
     "metadata": {},
     "execution_count": 8
    }
   ],
   "source": [
    "acc.balance"
   ]
  },
  {
   "cell_type": "code",
   "execution_count": null,
   "metadata": {},
   "outputs": [],
   "source": []
  }
 ]
}