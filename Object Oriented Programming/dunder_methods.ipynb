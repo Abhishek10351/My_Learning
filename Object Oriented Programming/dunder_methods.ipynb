{
 "metadata": {
  "language_info": {
   "codemirror_mode": {
    "name": "ipython",
    "version": 3
   },
   "file_extension": ".py",
   "mimetype": "text/x-python",
   "name": "python",
   "nbconvert_exporter": "python",
   "pygments_lexer": "ipython3",
   "version": "3.9.5"
  },
  "orig_nbformat": 4,
  "kernelspec": {
   "name": "python3",
   "display_name": "Python 3.9.5 32-bit"
  },
  "interpreter": {
   "hash": "4f90bca6d5532465107dddf48f58200c9df515003323938e85648d01de9b439e"
  }
 },
 "nbformat": 4,
 "nbformat_minor": 2,
 "cells": [
  {
   "cell_type": "code",
   "execution_count": 18,
   "metadata": {},
   "outputs": [
    {
     "output_type": "stream",
     "name": "stdout",
     "text": [
      "Python by Guido Van Rossum has 1000 pages\nY tho\n"
     ]
    }
   ],
   "source": [
    "class Book():\n",
    "    def __init__(self,name:str,author:str,pages:int):\n",
    "        self.name = name\n",
    "        self.author = author\n",
    "        self.pages = pages\n",
    "    def __str__(self):\n",
    "        return f'{self.name} by {self.author}'\n",
    "    def __len__(self):\n",
    "        return self.pages\n",
    "    def __del__(self):\n",
    "        print('Y tho')\n",
    "    def __class__(self):\n",
    "        return 'lol'\n",
    "        \n",
    "my_book = Book('Python','Guido Van Rossum',1000)\n",
    "print(f'{my_book} has {len(my_book)} pages')\n",
    "\n",
    "del my_book"
   ]
  }
 ]
}